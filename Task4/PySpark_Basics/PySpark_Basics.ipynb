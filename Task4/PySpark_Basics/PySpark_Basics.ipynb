{
 "cells": [
  {
   "cell_type": "markdown",
   "id": "trained-moses",
   "metadata": {},
   "source": [
    "import libraries(I provide all libs that I need when make this tasks, if you need some external import them here)"
   ]
  },
  {
   "cell_type": "code",
   "id": "induced-african",
   "metadata": {
    "ExecuteTime": {
     "end_time": "2024-10-14T09:26:34.542011Z",
     "start_time": "2024-10-14T09:26:33.592759Z"
    }
   },
   "source": [
    "import pyspark\n",
    "from pyspark.sql import SparkSession\n",
    "from pyspark.sql.types import StructType, StructField, IntegerType, StringType\n",
    "from pyspark.sql.functions import col, lit\n",
    "from pyspark.sql.functions import max, avg, min, desc\n",
    "from pyspark.sql.window import Window\n",
    "from pyspark.sql.functions import row_number\n",
    "from pyspark.sql.functions import when\n",
    "\n",
    "print(pyspark.__version__)"
   ],
   "outputs": [
    {
     "name": "stdout",
     "output_type": "stream",
     "text": [
      "3.5.3\n"
     ]
    }
   ],
   "execution_count": 1
  },
  {
   "cell_type": "markdown",
   "id": "permanent-photographer",
   "metadata": {},
   "source": [
    "create local SparkSession"
   ]
  },
  {
   "cell_type": "code",
   "id": "stock-partnership",
   "metadata": {
    "ExecuteTime": {
     "end_time": "2024-10-14T09:26:56.572307Z",
     "start_time": "2024-10-14T09:26:43.182659Z"
    }
   },
   "source": "spark = SparkSession.builder.appName(\"SimplePySparkJob\").getOrCreate()",
   "outputs": [],
   "execution_count": 2
  },
  {
   "cell_type": "markdown",
   "id": "juvenile-blame",
   "metadata": {},
   "source": [
    "read csv with inferschema"
   ]
  },
  {
   "cell_type": "code",
   "id": "computational-liverpool",
   "metadata": {
    "ExecuteTime": {
     "end_time": "2024-10-14T09:27:21.527625Z",
     "start_time": "2024-10-14T09:27:13.709763Z"
    }
   },
   "source": [
    "input_file = 'ds_salaries.csv'\n",
    "df = spark.read.csv(input_file, header=True, inferSchema=True)"
   ],
   "outputs": [],
   "execution_count": 3
  },
  {
   "cell_type": "markdown",
   "id": "stopped-dominant",
   "metadata": {},
   "source": [
    "read csv one more time with the same code and you will see that it almostly don't take time, because info already in SparkSession and it will not read nothing\n",
    "from this file"
   ]
  },
  {
   "cell_type": "code",
   "id": "aging-neighborhood",
   "metadata": {
    "ExecuteTime": {
     "end_time": "2024-10-14T09:12:22.827977Z",
     "start_time": "2024-10-14T09:12:22.099738Z"
    }
   },
   "source": "df = spark.read.csv(input_file, header=True, inferSchema=True)",
   "outputs": [],
   "execution_count": 5
  },
  {
   "cell_type": "markdown",
   "id": "mature-tomorrow",
   "metadata": {},
   "source": [
    "write schema of scv on screen"
   ]
  },
  {
   "cell_type": "code",
   "id": "least-communications",
   "metadata": {
    "ExecuteTime": {
     "end_time": "2024-10-14T09:12:26.545839Z",
     "start_time": "2024-10-14T09:12:26.540485Z"
    }
   },
   "source": "schema = df.schema\n",
   "outputs": [],
   "execution_count": 6
  },
  {
   "cell_type": "markdown",
   "id": "connected-brother",
   "metadata": {},
   "source": [
    "create schema of this scv"
   ]
  },
  {
   "cell_type": "code",
   "id": "progressive-dictionary",
   "metadata": {
    "ExecuteTime": {
     "end_time": "2024-10-14T09:12:35.390417Z",
     "start_time": "2024-10-14T09:12:34.496654Z"
    }
   },
   "source": [
    "spark.stop()\n",
    "spark = SparkSession.builder.appName(\"SimplePySparkJob\").getOrCreate()"
   ],
   "outputs": [],
   "execution_count": 7
  },
  {
   "cell_type": "markdown",
   "id": "auburn-sauce",
   "metadata": {},
   "source": [
    "restart kernel without cleaning output and after restarting you need to initialize SparkSession, after initialize start execute only cells from cell with schema=\n",
    "=StructType.... \n",
    "To restart kernel click Kernel, Restart."
   ]
  },
  {
   "cell_type": "markdown",
   "id": "artistic-hospital",
   "metadata": {},
   "source": [
    "read ds_salaries with predefined schema and compare results from this cell and cell with inferSchema"
   ]
  },
  {
   "cell_type": "code",
   "id": "literary-plaintiff",
   "metadata": {
    "ExecuteTime": {
     "end_time": "2024-10-14T09:12:37.998452Z",
     "start_time": "2024-10-14T09:12:37.924700Z"
    }
   },
   "source": [
    "input_file = 'ds_salaries.csv'\n",
    "df = spark.read.schema(schema).csv(input_file)"
   ],
   "outputs": [],
   "execution_count": 8
  },
  {
   "cell_type": "markdown",
   "id": "senior-joint",
   "metadata": {},
   "source": [
    "this happens because read operation is lazy(transformation), but if you use inferschema it start to be action that will create Spark Job, because Spark need to loop throw all file to check datatypes for all columns and this can harm to your code(if we compare to parquet, it will also go to check data types, but parquet provide meta information, so Spark will not go throw all file, he will just read meta information, but csv don't provide such meta information). Also header make Spark to create one more Spark Job to check first line\n",
    "to define name of columns and remember to skeep it when reading. Actual reading start when you will use first action. More about Spark Jobs you will see in next topic"
   ]
  },
  {
   "cell_type": "markdown",
   "id": "underlying-assurance",
   "metadata": {},
   "source": [
    "write schema of scv on screen one more time and compare with previous"
   ]
  },
  {
   "cell_type": "code",
   "id": "solid-infection",
   "metadata": {
    "ExecuteTime": {
     "end_time": "2024-10-14T09:12:42.044866Z",
     "start_time": "2024-10-14T09:12:42.033636Z"
    }
   },
   "source": "df.schema",
   "outputs": [
    {
     "data": {
      "text/plain": [
       "StructType([StructField('_c0', IntegerType(), True), StructField('work_year', IntegerType(), True), StructField('experience_level', StringType(), True), StructField('employment_type', StringType(), True), StructField('job_title', StringType(), True), StructField('salary', IntegerType(), True), StructField('salary_currency', StringType(), True), StructField('salary_in_usd', IntegerType(), True), StructField('employee_residence', StringType(), True), StructField('remote_ratio', IntegerType(), True), StructField('company_location', StringType(), True), StructField('company_size', StringType(), True)])"
      ]
     },
     "execution_count": 9,
     "metadata": {},
     "output_type": "execute_result"
    }
   ],
   "execution_count": 9
  },
  {
   "cell_type": "markdown",
   "id": "close-water",
   "metadata": {},
   "source": [
    "now continue to work with one of the dataframes that you create"
   ]
  },
  {
   "cell_type": "markdown",
   "id": "piano-belgium",
   "metadata": {},
   "source": [
    "print data in dataframe using df.show"
   ]
  },
  {
   "cell_type": "code",
   "id": "legendary-alarm",
   "metadata": {
    "ExecuteTime": {
     "end_time": "2024-10-14T09:13:00.407584Z",
     "start_time": "2024-10-14T09:13:00.228258Z"
    }
   },
   "source": "df.show()",
   "outputs": [
    {
     "name": "stdout",
     "output_type": "stream",
     "text": [
      "+---+---------+----------------+---------------+--------------------+--------+---------------+-------------+------------------+------------+----------------+------------+\n",
      "|_c0|work_year|experience_level|employment_type|           job_title|  salary|salary_currency|salary_in_usd|employee_residence|remote_ratio|company_location|company_size|\n",
      "+---+---------+----------------+---------------+--------------------+--------+---------------+-------------+------------------+------------+----------------+------------+\n",
      "|  0|     2020|              MI|             FT|      Data Scientist|   70000|            EUR|        79833|                DE|           0|              DE|           L|\n",
      "|  1|     2020|              SE|             FT|Machine Learning ...|  260000|            USD|       260000|                JP|           0|              JP|           S|\n",
      "|  2|     2020|              SE|             FT|   Big Data Engineer|   85000|            GBP|       109024|                GB|          50|              GB|           M|\n",
      "|  3|     2020|              MI|             FT|Product Data Analyst|   20000|            USD|        20000|                HN|           0|              HN|           S|\n",
      "|  4|     2020|              SE|             FT|Machine Learning ...|  150000|            USD|       150000|                US|          50|              US|           L|\n",
      "|  5|     2020|              EN|             FT|        Data Analyst|   72000|            USD|        72000|                US|         100|              US|           L|\n",
      "|  6|     2020|              SE|             FT| Lead Data Scientist|  190000|            USD|       190000|                US|         100|              US|           S|\n",
      "|  7|     2020|              MI|             FT|      Data Scientist|11000000|            HUF|        35735|                HU|          50|              HU|           L|\n",
      "|  8|     2020|              MI|             FT|Business Data Ana...|  135000|            USD|       135000|                US|         100|              US|           L|\n",
      "|  9|     2020|              SE|             FT|  Lead Data Engineer|  125000|            USD|       125000|                NZ|          50|              NZ|           S|\n",
      "| 10|     2020|              EN|             FT|      Data Scientist|   45000|            EUR|        51321|                FR|           0|              FR|           S|\n",
      "| 11|     2020|              MI|             FT|      Data Scientist| 3000000|            INR|        40481|                IN|           0|              IN|           L|\n",
      "| 12|     2020|              EN|             FT|      Data Scientist|   35000|            EUR|        39916|                FR|           0|              FR|           M|\n",
      "| 13|     2020|              MI|             FT|   Lead Data Analyst|   87000|            USD|        87000|                US|         100|              US|           L|\n",
      "| 14|     2020|              MI|             FT|        Data Analyst|   85000|            USD|        85000|                US|         100|              US|           L|\n",
      "| 15|     2020|              MI|             FT|        Data Analyst|    8000|            USD|         8000|                PK|          50|              PK|           L|\n",
      "| 16|     2020|              EN|             FT|       Data Engineer| 4450000|            JPY|        41689|                JP|         100|              JP|           S|\n",
      "| 17|     2020|              SE|             FT|   Big Data Engineer|  100000|            EUR|       114047|                PL|         100|              GB|           S|\n",
      "| 18|     2020|              EN|             FT|Data Science Cons...|  423000|            INR|         5707|                IN|          50|              IN|           M|\n",
      "| 19|     2020|              MI|             FT|  Lead Data Engineer|   56000|            USD|        56000|                PT|         100|              US|           M|\n",
      "+---+---------+----------------+---------------+--------------------+--------+---------------+-------------+------------------+------------+----------------+------------+\n",
      "only showing top 20 rows\n",
      "\n"
     ]
    }
   ],
   "execution_count": 12
  },
  {
   "cell_type": "markdown",
   "id": "tamil-medium",
   "metadata": {},
   "source": [
    "print data in dataframe using display(df.toPandas())"
   ]
  },
  {
   "cell_type": "code",
   "id": "connected-dryer",
   "metadata": {
    "ExecuteTime": {
     "end_time": "2024-10-14T09:35:13.789174Z",
     "start_time": "2024-10-14T09:35:13.626665Z"
    }
   },
   "source": "display(df.toPandas())",
   "outputs": [
    {
     "data": {
      "text/plain": [
       "     _c0  work_year experience_level employment_type  \\\n",
       "0      0       2020               MI              FT   \n",
       "1      1       2020               SE              FT   \n",
       "2      2       2020               SE              FT   \n",
       "3      3       2020               MI              FT   \n",
       "4      4       2020               SE              FT   \n",
       "..   ...        ...              ...             ...   \n",
       "602  602       2022               SE              FT   \n",
       "603  603       2022               SE              FT   \n",
       "604  604       2022               SE              FT   \n",
       "605  605       2022               SE              FT   \n",
       "606  606       2022               MI              FT   \n",
       "\n",
       "                      job_title  salary salary_currency  salary_in_usd  \\\n",
       "0                Data Scientist   70000             EUR          79833   \n",
       "1    Machine Learning Scientist  260000             USD         260000   \n",
       "2             Big Data Engineer   85000             GBP         109024   \n",
       "3          Product Data Analyst   20000             USD          20000   \n",
       "4     Machine Learning Engineer  150000             USD         150000   \n",
       "..                          ...     ...             ...            ...   \n",
       "602               Data Engineer  154000             USD         154000   \n",
       "603               Data Engineer  126000             USD         126000   \n",
       "604                Data Analyst  129000             USD         129000   \n",
       "605                Data Analyst  150000             USD         150000   \n",
       "606                AI Scientist  200000             USD         200000   \n",
       "\n",
       "    employee_residence  remote_ratio company_location company_size  \n",
       "0                   DE             0               DE            L  \n",
       "1                   JP             0               JP            S  \n",
       "2                   GB            50               GB            M  \n",
       "3                   HN             0               HN            S  \n",
       "4                   US            50               US            L  \n",
       "..                 ...           ...              ...          ...  \n",
       "602                 US           100               US            M  \n",
       "603                 US           100               US            M  \n",
       "604                 US             0               US            M  \n",
       "605                 US           100               US            M  \n",
       "606                 IN           100               US            L  \n",
       "\n",
       "[607 rows x 12 columns]"
      ],
      "text/html": [
       "<div>\n",
       "<style scoped>\n",
       "    .dataframe tbody tr th:only-of-type {\n",
       "        vertical-align: middle;\n",
       "    }\n",
       "\n",
       "    .dataframe tbody tr th {\n",
       "        vertical-align: top;\n",
       "    }\n",
       "\n",
       "    .dataframe thead th {\n",
       "        text-align: right;\n",
       "    }\n",
       "</style>\n",
       "<table border=\"1\" class=\"dataframe\">\n",
       "  <thead>\n",
       "    <tr style=\"text-align: right;\">\n",
       "      <th></th>\n",
       "      <th>_c0</th>\n",
       "      <th>work_year</th>\n",
       "      <th>experience_level</th>\n",
       "      <th>employment_type</th>\n",
       "      <th>job_title</th>\n",
       "      <th>salary</th>\n",
       "      <th>salary_currency</th>\n",
       "      <th>salary_in_usd</th>\n",
       "      <th>employee_residence</th>\n",
       "      <th>remote_ratio</th>\n",
       "      <th>company_location</th>\n",
       "      <th>company_size</th>\n",
       "    </tr>\n",
       "  </thead>\n",
       "  <tbody>\n",
       "    <tr>\n",
       "      <th>0</th>\n",
       "      <td>0</td>\n",
       "      <td>2020</td>\n",
       "      <td>MI</td>\n",
       "      <td>FT</td>\n",
       "      <td>Data Scientist</td>\n",
       "      <td>70000</td>\n",
       "      <td>EUR</td>\n",
       "      <td>79833</td>\n",
       "      <td>DE</td>\n",
       "      <td>0</td>\n",
       "      <td>DE</td>\n",
       "      <td>L</td>\n",
       "    </tr>\n",
       "    <tr>\n",
       "      <th>1</th>\n",
       "      <td>1</td>\n",
       "      <td>2020</td>\n",
       "      <td>SE</td>\n",
       "      <td>FT</td>\n",
       "      <td>Machine Learning Scientist</td>\n",
       "      <td>260000</td>\n",
       "      <td>USD</td>\n",
       "      <td>260000</td>\n",
       "      <td>JP</td>\n",
       "      <td>0</td>\n",
       "      <td>JP</td>\n",
       "      <td>S</td>\n",
       "    </tr>\n",
       "    <tr>\n",
       "      <th>2</th>\n",
       "      <td>2</td>\n",
       "      <td>2020</td>\n",
       "      <td>SE</td>\n",
       "      <td>FT</td>\n",
       "      <td>Big Data Engineer</td>\n",
       "      <td>85000</td>\n",
       "      <td>GBP</td>\n",
       "      <td>109024</td>\n",
       "      <td>GB</td>\n",
       "      <td>50</td>\n",
       "      <td>GB</td>\n",
       "      <td>M</td>\n",
       "    </tr>\n",
       "    <tr>\n",
       "      <th>3</th>\n",
       "      <td>3</td>\n",
       "      <td>2020</td>\n",
       "      <td>MI</td>\n",
       "      <td>FT</td>\n",
       "      <td>Product Data Analyst</td>\n",
       "      <td>20000</td>\n",
       "      <td>USD</td>\n",
       "      <td>20000</td>\n",
       "      <td>HN</td>\n",
       "      <td>0</td>\n",
       "      <td>HN</td>\n",
       "      <td>S</td>\n",
       "    </tr>\n",
       "    <tr>\n",
       "      <th>4</th>\n",
       "      <td>4</td>\n",
       "      <td>2020</td>\n",
       "      <td>SE</td>\n",
       "      <td>FT</td>\n",
       "      <td>Machine Learning Engineer</td>\n",
       "      <td>150000</td>\n",
       "      <td>USD</td>\n",
       "      <td>150000</td>\n",
       "      <td>US</td>\n",
       "      <td>50</td>\n",
       "      <td>US</td>\n",
       "      <td>L</td>\n",
       "    </tr>\n",
       "    <tr>\n",
       "      <th>...</th>\n",
       "      <td>...</td>\n",
       "      <td>...</td>\n",
       "      <td>...</td>\n",
       "      <td>...</td>\n",
       "      <td>...</td>\n",
       "      <td>...</td>\n",
       "      <td>...</td>\n",
       "      <td>...</td>\n",
       "      <td>...</td>\n",
       "      <td>...</td>\n",
       "      <td>...</td>\n",
       "      <td>...</td>\n",
       "    </tr>\n",
       "    <tr>\n",
       "      <th>602</th>\n",
       "      <td>602</td>\n",
       "      <td>2022</td>\n",
       "      <td>SE</td>\n",
       "      <td>FT</td>\n",
       "      <td>Data Engineer</td>\n",
       "      <td>154000</td>\n",
       "      <td>USD</td>\n",
       "      <td>154000</td>\n",
       "      <td>US</td>\n",
       "      <td>100</td>\n",
       "      <td>US</td>\n",
       "      <td>M</td>\n",
       "    </tr>\n",
       "    <tr>\n",
       "      <th>603</th>\n",
       "      <td>603</td>\n",
       "      <td>2022</td>\n",
       "      <td>SE</td>\n",
       "      <td>FT</td>\n",
       "      <td>Data Engineer</td>\n",
       "      <td>126000</td>\n",
       "      <td>USD</td>\n",
       "      <td>126000</td>\n",
       "      <td>US</td>\n",
       "      <td>100</td>\n",
       "      <td>US</td>\n",
       "      <td>M</td>\n",
       "    </tr>\n",
       "    <tr>\n",
       "      <th>604</th>\n",
       "      <td>604</td>\n",
       "      <td>2022</td>\n",
       "      <td>SE</td>\n",
       "      <td>FT</td>\n",
       "      <td>Data Analyst</td>\n",
       "      <td>129000</td>\n",
       "      <td>USD</td>\n",
       "      <td>129000</td>\n",
       "      <td>US</td>\n",
       "      <td>0</td>\n",
       "      <td>US</td>\n",
       "      <td>M</td>\n",
       "    </tr>\n",
       "    <tr>\n",
       "      <th>605</th>\n",
       "      <td>605</td>\n",
       "      <td>2022</td>\n",
       "      <td>SE</td>\n",
       "      <td>FT</td>\n",
       "      <td>Data Analyst</td>\n",
       "      <td>150000</td>\n",
       "      <td>USD</td>\n",
       "      <td>150000</td>\n",
       "      <td>US</td>\n",
       "      <td>100</td>\n",
       "      <td>US</td>\n",
       "      <td>M</td>\n",
       "    </tr>\n",
       "    <tr>\n",
       "      <th>606</th>\n",
       "      <td>606</td>\n",
       "      <td>2022</td>\n",
       "      <td>MI</td>\n",
       "      <td>FT</td>\n",
       "      <td>AI Scientist</td>\n",
       "      <td>200000</td>\n",
       "      <td>USD</td>\n",
       "      <td>200000</td>\n",
       "      <td>IN</td>\n",
       "      <td>100</td>\n",
       "      <td>US</td>\n",
       "      <td>L</td>\n",
       "    </tr>\n",
       "  </tbody>\n",
       "</table>\n",
       "<p>607 rows × 12 columns</p>\n",
       "</div>"
      ]
     },
     "metadata": {},
     "output_type": "display_data"
    }
   ],
   "execution_count": 10
  },
  {
   "cell_type": "markdown",
   "id": "opponent-gazette",
   "metadata": {},
   "source": [
    "create df_job_title that consists from all job_titles without duplicates"
   ]
  },
  {
   "cell_type": "code",
   "id": "friendly-cartridge",
   "metadata": {
    "ExecuteTime": {
     "end_time": "2024-10-14T09:35:17.775150Z",
     "start_time": "2024-10-14T09:35:17.737311Z"
    }
   },
   "source": "df_job_titles = df.select('job_title').distinct()",
   "outputs": [],
   "execution_count": 11
  },
  {
   "cell_type": "markdown",
   "id": "offshore-architecture",
   "metadata": {},
   "source": [
    "print all rows from df_job_titles without truncating jobs"
   ]
  },
  {
   "cell_type": "code",
   "id": "asian-edition",
   "metadata": {
    "ExecuteTime": {
     "end_time": "2024-10-14T09:35:21.197052Z",
     "start_time": "2024-10-14T09:35:19.702672Z"
    }
   },
   "source": [
    "for row in df_job_titles.toLocalIterator():\n",
    "    print(row)"
   ],
   "outputs": [
    {
     "name": "stdout",
     "output_type": "stream",
     "text": [
      "Row(job_title='3D Computer Vision Researcher')\n",
      "Row(job_title='Lead Data Engineer')\n",
      "Row(job_title='Head of Machine Learning')\n",
      "Row(job_title='Data Specialist')\n",
      "Row(job_title='Data Analytics Lead')\n",
      "Row(job_title='Machine Learning Scientist')\n",
      "Row(job_title='Lead Data Analyst')\n",
      "Row(job_title='Data Engineering Manager')\n",
      "Row(job_title='Staff Data Scientist')\n",
      "Row(job_title='ETL Developer')\n",
      "Row(job_title='Director of Data Engineering')\n",
      "Row(job_title='Product Data Analyst')\n",
      "Row(job_title='Principal Data Scientist')\n",
      "Row(job_title='AI Scientist')\n",
      "Row(job_title='Director of Data Science')\n",
      "Row(job_title='Machine Learning Engineer')\n",
      "Row(job_title='Lead Data Scientist')\n",
      "Row(job_title='Machine Learning Infrastructure Engineer')\n",
      "Row(job_title='Data Science Engineer')\n",
      "Row(job_title='Machine Learning Manager')\n",
      "Row(job_title='Research Scientist')\n",
      "Row(job_title='Head of Data')\n",
      "Row(job_title='Cloud Data Engineer')\n",
      "Row(job_title='Machine Learning Developer')\n",
      "Row(job_title='Data Scientist')\n",
      "Row(job_title='Finance Data Analyst')\n",
      "Row(job_title='Data Analyst')\n",
      "Row(job_title='Data Analytics Engineer')\n",
      "Row(job_title='Data Science Consultant')\n",
      "Row(job_title='Principal Data Engineer')\n",
      "Row(job_title='Lead Machine Learning Engineer')\n",
      "Row(job_title='ML Engineer')\n",
      "Row(job_title='Analytics Engineer')\n",
      "Row(job_title='Data Science Manager')\n",
      "Row(job_title='Business Data Analyst')\n",
      "Row(job_title='Principal Data Analyst')\n",
      "Row(job_title='Applied Machine Learning Scientist')\n",
      "Row(job_title='Financial Data Analyst')\n",
      "Row(job_title='Data Analytics Manager')\n",
      "Row(job_title='Computer Vision Engineer')\n",
      "Row(job_title='Computer Vision Software Engineer')\n",
      "Row(job_title='Big Data Engineer')\n",
      "Row(job_title='Head of Data Science')\n",
      "Row(job_title='NLP Engineer')\n",
      "Row(job_title='Big Data Architect')\n",
      "Row(job_title='Applied Data Scientist')\n",
      "Row(job_title='Data Architect')\n",
      "Row(job_title='BI Data Analyst')\n",
      "Row(job_title='Marketing Data Analyst')\n",
      "Row(job_title='Data Engineer')\n"
     ]
    }
   ],
   "execution_count": 12
  },
  {
   "cell_type": "markdown",
   "id": "interim-pharmacy",
   "metadata": {},
   "source": [
    "create  df_analytic that will consists from max, avg, min USD salaries for all job_titles using groupBy. name of fields is avg_salary, min_salary, max_salary"
   ]
  },
  {
   "cell_type": "code",
   "id": "naval-roller",
   "metadata": {
    "ExecuteTime": {
     "end_time": "2024-10-14T09:35:22.437964Z",
     "start_time": "2024-10-14T09:35:22.369948Z"
    }
   },
   "source": [
    "df_analytic = df.groupBy('job_title').agg(\n",
    "    avg('salary_in_usd').alias('avg_salary'),\n",
    "    min('salary_in_usd').alias('min_salary'),\n",
    "    max('salary_in_usd').alias('max_salary'),\n",
    ")"
   ],
   "outputs": [],
   "execution_count": 13
  },
  {
   "cell_type": "markdown",
   "id": "french-pledge",
   "metadata": {},
   "source": [
    "print all rows from df_analytic without trancating jobs"
   ]
  },
  {
   "cell_type": "code",
   "id": "bacterial-depression",
   "metadata": {
    "ExecuteTime": {
     "end_time": "2024-10-14T09:35:26.888373Z",
     "start_time": "2024-10-14T09:35:25.935243Z"
    }
   },
   "source": "for row in df_analytic.toLocalIterator(): print(row)",
   "outputs": [
    {
     "name": "stdout",
     "output_type": "stream",
     "text": [
      "Row(job_title='3D Computer Vision Researcher', avg_salary=5409.0, min_salary=5409, max_salary=5409)\n",
      "Row(job_title='Lead Data Engineer', avg_salary=139724.5, min_salary=56000, max_salary=276000)\n",
      "Row(job_title='Head of Machine Learning', avg_salary=79039.0, min_salary=79039, max_salary=79039)\n",
      "Row(job_title='Data Specialist', avg_salary=165000.0, min_salary=165000, max_salary=165000)\n",
      "Row(job_title='Data Analytics Lead', avg_salary=405000.0, min_salary=405000, max_salary=405000)\n",
      "Row(job_title='Machine Learning Scientist', avg_salary=158412.5, min_salary=12000, max_salary=260000)\n",
      "Row(job_title='Lead Data Analyst', avg_salary=92203.0, min_salary=19609, max_salary=170000)\n",
      "Row(job_title='Data Engineering Manager', avg_salary=123227.2, min_salary=59303, max_salary=174000)\n",
      "Row(job_title='Staff Data Scientist', avg_salary=105000.0, min_salary=105000, max_salary=105000)\n",
      "Row(job_title='ETL Developer', avg_salary=54957.0, min_salary=54957, max_salary=54957)\n",
      "Row(job_title='Director of Data Engineering', avg_salary=156738.0, min_salary=113476, max_salary=200000)\n",
      "Row(job_title='Product Data Analyst', avg_salary=13036.0, min_salary=6072, max_salary=20000)\n",
      "Row(job_title='Principal Data Scientist', avg_salary=215242.42857142858, min_salary=148261, max_salary=416000)\n",
      "Row(job_title='AI Scientist', avg_salary=66135.57142857143, min_salary=12000, max_salary=200000)\n",
      "Row(job_title='Director of Data Science', avg_salary=195074.0, min_salary=130026, max_salary=325000)\n",
      "Row(job_title='Machine Learning Engineer', avg_salary=104880.14634146342, min_salary=20000, max_salary=250000)\n",
      "Row(job_title='Lead Data Scientist', avg_salary=115190.0, min_salary=40570, max_salary=190000)\n",
      "Row(job_title='Machine Learning Infrastructure Engineer', avg_salary=101145.0, min_salary=50180, max_salary=195000)\n",
      "Row(job_title='Data Science Engineer', avg_salary=75803.33333333333, min_salary=40189, max_salary=127221)\n",
      "Row(job_title='Machine Learning Manager', avg_salary=117104.0, min_salary=117104, max_salary=117104)\n",
      "Row(job_title='Research Scientist', avg_salary=109019.5, min_salary=42000, max_salary=450000)\n",
      "Row(job_title='Head of Data', avg_salary=160162.6, min_salary=32974, max_salary=235000)\n",
      "Row(job_title='Cloud Data Engineer', avg_salary=124647.0, min_salary=89294, max_salary=160000)\n",
      "Row(job_title='Machine Learning Developer', avg_salary=85860.66666666667, min_salary=78791, max_salary=100000)\n",
      "Row(job_title='Data Scientist', avg_salary=108187.83216783217, min_salary=2859, max_salary=412000)\n",
      "Row(job_title='Finance Data Analyst', avg_salary=61896.0, min_salary=61896, max_salary=61896)\n",
      "Row(job_title='Data Analyst', avg_salary=92893.06185567011, min_salary=6072, max_salary=200000)\n",
      "Row(job_title='Data Analytics Engineer', avg_salary=64799.25, min_salary=20000, max_salary=110000)\n",
      "Row(job_title='Data Science Consultant', avg_salary=69420.71428571429, min_salary=5707, max_salary=103000)\n",
      "Row(job_title='Principal Data Engineer', avg_salary=328333.3333333333, min_salary=185000, max_salary=600000)\n",
      "Row(job_title='Lead Machine Learning Engineer', avg_salary=87932.0, min_salary=87932, max_salary=87932)\n",
      "Row(job_title='ML Engineer', avg_salary=117504.0, min_salary=15966, max_salary=270000)\n",
      "Row(job_title='Analytics Engineer', avg_salary=175000.0, min_salary=135000, max_salary=205300)\n",
      "Row(job_title='Data Science Manager', avg_salary=158328.5, min_salary=54094, max_salary=241000)\n",
      "Row(job_title='Business Data Analyst', avg_salary=76691.2, min_salary=18442, max_salary=135000)\n",
      "Row(job_title='Principal Data Analyst', avg_salary=122500.0, min_salary=75000, max_salary=170000)\n",
      "Row(job_title='Applied Machine Learning Scientist', avg_salary=142068.75, min_salary=31875, max_salary=423000)\n",
      "Row(job_title='Financial Data Analyst', avg_salary=275000.0, min_salary=100000, max_salary=450000)\n",
      "Row(job_title='Data Analytics Manager', avg_salary=127134.28571428571, min_salary=105400, max_salary=150260)\n",
      "Row(job_title='Computer Vision Engineer', avg_salary=44419.333333333336, min_salary=10000, max_salary=125000)\n",
      "Row(job_title='Computer Vision Software Engineer', avg_salary=105248.66666666667, min_salary=70000, max_salary=150000)\n",
      "Row(job_title='Big Data Engineer', avg_salary=51974.0, min_salary=5882, max_salary=114047)\n",
      "Row(job_title='Head of Data Science', avg_salary=146718.75, min_salary=85000, max_salary=224000)\n",
      "Row(job_title='NLP Engineer', avg_salary=37236.0, min_salary=37236, max_salary=37236)\n",
      "Row(job_title='Big Data Architect', avg_salary=99703.0, min_salary=99703, max_salary=99703)\n",
      "Row(job_title='Applied Data Scientist', avg_salary=175655.0, min_salary=54238, max_salary=380000)\n",
      "Row(job_title='Data Architect', avg_salary=177873.9090909091, min_salary=90700, max_salary=266400)\n",
      "Row(job_title='BI Data Analyst', avg_salary=74755.16666666667, min_salary=9272, max_salary=150000)\n",
      "Row(job_title='Marketing Data Analyst', avg_salary=88654.0, min_salary=88654, max_salary=88654)\n",
      "Row(job_title='Data Engineer', avg_salary=112725.0, min_salary=4000, max_salary=324000)\n"
     ]
    }
   ],
   "execution_count": 14
  },
  {
   "cell_type": "markdown",
   "id": "hazardous-color",
   "metadata": {},
   "source": [
    "now you need to add in df_analytic column row_id, that will show order of all job_titles depending on avg salary. they should be descending"
   ]
  },
  {
   "cell_type": "code",
   "id": "nearby-treasurer",
   "metadata": {
    "ExecuteTime": {
     "end_time": "2024-10-14T09:35:30.285886Z",
     "start_time": "2024-10-14T09:35:30.216892Z"
    }
   },
   "source": [
    "wind_spec = Window.orderBy(desc('avg_salary'))\n",
    "df_analytic = df_analytic.withColumn('row_id', row_number().over(wind_spec))"
   ],
   "outputs": [],
   "execution_count": 15
  },
  {
   "cell_type": "markdown",
   "id": "documented-catalog",
   "metadata": {},
   "source": [
    "print all data from df_analytic"
   ]
  },
  {
   "cell_type": "code",
   "id": "confirmed-monitoring",
   "metadata": {
    "ExecuteTime": {
     "end_time": "2024-10-14T09:35:35.178981Z",
     "start_time": "2024-10-14T09:35:34.102300Z"
    }
   },
   "source": "df_analytic.show()",
   "outputs": [
    {
     "name": "stdout",
     "output_type": "stream",
     "text": [
      "+--------------------+------------------+----------+----------+------+\n",
      "|           job_title|        avg_salary|min_salary|max_salary|row_id|\n",
      "+--------------------+------------------+----------+----------+------+\n",
      "| Data Analytics Lead|          405000.0|    405000|    405000|     1|\n",
      "|Principal Data En...| 328333.3333333333|    185000|    600000|     2|\n",
      "|Financial Data An...|          275000.0|    100000|    450000|     3|\n",
      "|Principal Data Sc...|215242.42857142858|    148261|    416000|     4|\n",
      "|Director of Data ...|          195074.0|    130026|    325000|     5|\n",
      "|      Data Architect| 177873.9090909091|     90700|    266400|     6|\n",
      "|Applied Data Scie...|          175655.0|     54238|    380000|     7|\n",
      "|  Analytics Engineer|          175000.0|    135000|    205300|     8|\n",
      "|     Data Specialist|          165000.0|    165000|    165000|     9|\n",
      "|        Head of Data|          160162.6|     32974|    235000|    10|\n",
      "|Machine Learning ...|          158412.5|     12000|    260000|    11|\n",
      "|Data Science Manager|          158328.5|     54094|    241000|    12|\n",
      "|Director of Data ...|          156738.0|    113476|    200000|    13|\n",
      "|Head of Data Science|         146718.75|     85000|    224000|    14|\n",
      "|Applied Machine L...|         142068.75|     31875|    423000|    15|\n",
      "|  Lead Data Engineer|          139724.5|     56000|    276000|    16|\n",
      "|Data Analytics Ma...|127134.28571428571|    105400|    150260|    17|\n",
      "| Cloud Data Engineer|          124647.0|     89294|    160000|    18|\n",
      "|Data Engineering ...|          123227.2|     59303|    174000|    19|\n",
      "|Principal Data An...|          122500.0|     75000|    170000|    20|\n",
      "+--------------------+------------------+----------+----------+------+\n",
      "only showing top 20 rows\n",
      "\n"
     ]
    }
   ],
   "execution_count": 16
  },
  {
   "cell_type": "markdown",
   "id": "satellite-quarter",
   "metadata": {},
   "source": [
    "it isn't beautifull, so we need to put now row_id on first place in df_analytic"
   ]
  },
  {
   "cell_type": "code",
   "id": "ranging-tribune",
   "metadata": {
    "ExecuteTime": {
     "end_time": "2024-10-14T09:35:40.763640Z",
     "start_time": "2024-10-14T09:35:40.735594Z"
    }
   },
   "source": "df_analytic = df_analytic.select('row_id', *tuple(df_analytic.columns[:-1]))",
   "outputs": [],
   "execution_count": 17
  },
  {
   "cell_type": "markdown",
   "id": "reliable-amsterdam",
   "metadata": {},
   "source": [
    "print df_analytic now"
   ]
  },
  {
   "cell_type": "code",
   "id": "classical-biology",
   "metadata": {
    "ExecuteTime": {
     "end_time": "2024-10-14T09:35:43.910899Z",
     "start_time": "2024-10-14T09:35:43.125534Z"
    }
   },
   "source": "df_analytic.show()",
   "outputs": [
    {
     "name": "stdout",
     "output_type": "stream",
     "text": [
      "+------+--------------------+------------------+----------+----------+\n",
      "|row_id|           job_title|        avg_salary|min_salary|max_salary|\n",
      "+------+--------------------+------------------+----------+----------+\n",
      "|     1| Data Analytics Lead|          405000.0|    405000|    405000|\n",
      "|     2|Principal Data En...| 328333.3333333333|    185000|    600000|\n",
      "|     3|Financial Data An...|          275000.0|    100000|    450000|\n",
      "|     4|Principal Data Sc...|215242.42857142858|    148261|    416000|\n",
      "|     5|Director of Data ...|          195074.0|    130026|    325000|\n",
      "|     6|      Data Architect| 177873.9090909091|     90700|    266400|\n",
      "|     7|Applied Data Scie...|          175655.0|     54238|    380000|\n",
      "|     8|  Analytics Engineer|          175000.0|    135000|    205300|\n",
      "|     9|     Data Specialist|          165000.0|    165000|    165000|\n",
      "|    10|        Head of Data|          160162.6|     32974|    235000|\n",
      "|    11|Machine Learning ...|          158412.5|     12000|    260000|\n",
      "|    12|Data Science Manager|          158328.5|     54094|    241000|\n",
      "|    13|Director of Data ...|          156738.0|    113476|    200000|\n",
      "|    14|Head of Data Science|         146718.75|     85000|    224000|\n",
      "|    15|Applied Machine L...|         142068.75|     31875|    423000|\n",
      "|    16|  Lead Data Engineer|          139724.5|     56000|    276000|\n",
      "|    17|Data Analytics Ma...|127134.28571428571|    105400|    150260|\n",
      "|    18| Cloud Data Engineer|          124647.0|     89294|    160000|\n",
      "|    19|Data Engineering ...|          123227.2|     59303|    174000|\n",
      "|    20|Principal Data An...|          122500.0|     75000|    170000|\n",
      "+------+--------------------+------------------+----------+----------+\n",
      "only showing top 20 rows\n",
      "\n"
     ]
    }
   ],
   "execution_count": 18
  },
  {
   "cell_type": "markdown",
   "id": "hybrid-queensland",
   "metadata": {},
   "source": [
    "here you need to create df_exp_lvl with the biggest usd_salary(biggest_salary) for each experience_level(you need to save all fields like in entire dataframe)"
   ]
  },
  {
   "cell_type": "code",
   "id": "dental-wrist",
   "metadata": {
    "ExecuteTime": {
     "end_time": "2024-10-14T09:35:47.065546Z",
     "start_time": "2024-10-14T09:35:46.621415Z"
    }
   },
   "source": [
    "biggest_sal_df = df.groupBy('experience_level').agg(\n",
    "    max('salary_in_usd').alias('biggest_salary'),\n",
    ")\n",
    "\n",
    "biggest_sal_df.show()\n",
    "\n",
    "df_exp_lvl = df.join(\n",
    "    biggest_sal_df,\n",
    "    (df.experience_level == biggest_sal_df.experience_level) &\n",
    "    (df.salary_in_usd == biggest_sal_df.biggest_salary),\n",
    "    how='inner'\n",
    ")"
   ],
   "outputs": [
    {
     "name": "stdout",
     "output_type": "stream",
     "text": [
      "+----------------+--------------+\n",
      "|experience_level|biggest_salary|\n",
      "+----------------+--------------+\n",
      "|              EX|        600000|\n",
      "|              MI|        450000|\n",
      "|              EN|        250000|\n",
      "|              SE|        412000|\n",
      "+----------------+--------------+\n",
      "\n"
     ]
    }
   ],
   "execution_count": 19
  },
  {
   "cell_type": "markdown",
   "id": "innovative-hierarchy",
   "metadata": {},
   "source": [
    "print here df_exp_lvl"
   ]
  },
  {
   "cell_type": "code",
   "id": "standing-toilet",
   "metadata": {
    "ExecuteTime": {
     "end_time": "2024-10-14T09:35:50.795351Z",
     "start_time": "2024-10-14T09:35:50.055615Z"
    }
   },
   "source": "df_exp_lvl.show()",
   "outputs": [
    {
     "name": "stdout",
     "output_type": "stream",
     "text": [
      "+---+---------+----------------+---------------+--------------------+------+---------------+-------------+------------------+------------+----------------+------------+----------------+--------------+\n",
      "|_c0|work_year|experience_level|employment_type|           job_title|salary|salary_currency|salary_in_usd|employee_residence|remote_ratio|company_location|company_size|experience_level|biggest_salary|\n",
      "+---+---------+----------------+---------------+--------------------+------+---------------+-------------+------------------+------------+----------------+------------+----------------+--------------+\n",
      "| 33|     2020|              MI|             FT|  Research Scientist|450000|            USD|       450000|                US|           0|              US|           M|              MI|        450000|\n",
      "| 37|     2020|              EN|             FT|Machine Learning ...|250000|            USD|       250000|                US|          50|              US|           L|              EN|        250000|\n",
      "| 63|     2020|              SE|             FT|      Data Scientist|412000|            USD|       412000|                US|         100|              US|           L|              SE|        412000|\n",
      "| 97|     2021|              MI|             FT|Financial Data An...|450000|            USD|       450000|                US|         100|              US|           L|              MI|        450000|\n",
      "|252|     2021|              EX|             FT|Principal Data En...|600000|            USD|       600000|                US|         100|              US|           L|              EX|        600000|\n",
      "+---+---------+----------------+---------------+--------------------+------+---------------+-------------+------------------+------------+----------------+------------+----------------+--------------+\n",
      "\n"
     ]
    }
   ],
   "execution_count": 20
  },
  {
   "cell_type": "markdown",
   "id": "hawaiian-mortgage",
   "metadata": {},
   "source": [
    "create df_best that consists from rows where salary of guy same as biggest salary for other people in his exp_lvl and choose only columns: id, experience_level, biggest_salary, employee_residence"
   ]
  },
  {
   "cell_type": "code",
   "id": "toxic-prompt",
   "metadata": {
    "ExecuteTime": {
     "end_time": "2024-10-14T09:35:53.031126Z",
     "start_time": "2024-10-14T09:35:52.965676Z"
    }
   },
   "source": [
    "df_best = df.alias('df').join(\n",
    "    biggest_sal_df.alias('bg_sal'),\n",
    "    (df.experience_level == biggest_sal_df.experience_level),\n",
    "    how='inner'\n",
    ").filter(col('df.salary_in_usd') == col('bg_sal.biggest_salary')).select(\n",
    "    'df._c0', 'df.experience_level', 'bg_sal.biggest_salary', 'df.employee_residence',\n",
    ")"
   ],
   "outputs": [],
   "execution_count": 21
  },
  {
   "cell_type": "markdown",
   "id": "complex-librarian",
   "metadata": {},
   "source": [
    "print df_best"
   ]
  },
  {
   "cell_type": "code",
   "id": "smart-texas",
   "metadata": {
    "ExecuteTime": {
     "end_time": "2024-10-14T09:35:56.045615Z",
     "start_time": "2024-10-14T09:35:55.322967Z"
    }
   },
   "source": "df_best.show()",
   "outputs": [
    {
     "name": "stdout",
     "output_type": "stream",
     "text": [
      "+---+----------------+--------------+------------------+\n",
      "|_c0|experience_level|biggest_salary|employee_residence|\n",
      "+---+----------------+--------------+------------------+\n",
      "| 33|              MI|        450000|                US|\n",
      "| 37|              EN|        250000|                US|\n",
      "| 63|              SE|        412000|                US|\n",
      "| 97|              MI|        450000|                US|\n",
      "|252|              EX|        600000|                US|\n",
      "+---+----------------+--------------+------------------+\n",
      "\n"
     ]
    }
   ],
   "execution_count": 22
  },
  {
   "cell_type": "markdown",
   "id": "integral-brass",
   "metadata": {},
   "source": [
    "drop duplicates if exist by experience_level"
   ]
  },
  {
   "cell_type": "code",
   "id": "immune-marine",
   "metadata": {
    "ExecuteTime": {
     "end_time": "2024-10-14T09:36:00.928375Z",
     "start_time": "2024-10-14T09:36:00.919812Z"
    }
   },
   "source": "df_best = df_best.dropDuplicates(['experience_level',])",
   "outputs": [],
   "execution_count": 23
  },
  {
   "cell_type": "markdown",
   "id": "connected-credit",
   "metadata": {},
   "source": [
    "print df_best"
   ]
  },
  {
   "cell_type": "code",
   "id": "specified-wellington",
   "metadata": {
    "ExecuteTime": {
     "end_time": "2024-10-14T09:36:04.353039Z",
     "start_time": "2024-10-14T09:36:03.288682Z"
    }
   },
   "source": "df_best.show()",
   "outputs": [
    {
     "name": "stdout",
     "output_type": "stream",
     "text": [
      "+---+----------------+--------------+------------------+\n",
      "|_c0|experience_level|biggest_salary|employee_residence|\n",
      "+---+----------------+--------------+------------------+\n",
      "| 37|              EN|        250000|                US|\n",
      "|252|              EX|        600000|                US|\n",
      "| 33|              MI|        450000|                US|\n",
      "| 63|              SE|        412000|                US|\n",
      "+---+----------------+--------------+------------------+\n",
      "\n"
     ]
    }
   ],
   "execution_count": 24
  },
  {
   "cell_type": "markdown",
   "id": "facial-plant",
   "metadata": {},
   "source": [
    "create df_new_best from df_best without id, and make the next: when exp_level = MI we want middle, when SE we want senior, else Null"
   ]
  },
  {
   "cell_type": "code",
   "id": "infinite-retail",
   "metadata": {
    "ExecuteTime": {
     "end_time": "2024-10-14T09:36:07.500882Z",
     "start_time": "2024-10-14T09:36:07.466548Z"
    }
   },
   "source": [
    "df_new_best = df_best.withColumns({\n",
    "    \"experience_level\": when(df_best.experience_level == 'MI', 'middle').\\\n",
    "        when(df_best.experience_level == 'SE', 'senior').otherwise(lit(None)),\n",
    "})"
   ],
   "outputs": [],
   "execution_count": 25
  },
  {
   "cell_type": "markdown",
   "id": "changing-fairy",
   "metadata": {},
   "source": [
    "print df_new_best"
   ]
  },
  {
   "cell_type": "code",
   "id": "endless-framework",
   "metadata": {
    "ExecuteTime": {
     "end_time": "2024-10-14T09:36:11.965984Z",
     "start_time": "2024-10-14T09:36:11.148295Z"
    }
   },
   "source": "df_new_best.show()",
   "outputs": [
    {
     "name": "stdout",
     "output_type": "stream",
     "text": [
      "+---+----------------+--------------+------------------+\n",
      "|_c0|experience_level|biggest_salary|employee_residence|\n",
      "+---+----------------+--------------+------------------+\n",
      "| 37|            NULL|        250000|                US|\n",
      "|252|            NULL|        600000|                US|\n",
      "| 33|          middle|        450000|                US|\n",
      "| 63|          senior|        412000|                US|\n",
      "+---+----------------+--------------+------------------+\n",
      "\n"
     ]
    }
   ],
   "execution_count": 26
  },
  {
   "cell_type": "markdown",
   "id": "mineral-status",
   "metadata": {},
   "source": [
    "write df_new_best like 1.csv and load then it to df_final"
   ]
  },
  {
   "cell_type": "code",
   "id": "baking-progress",
   "metadata": {
    "ExecuteTime": {
     "end_time": "2024-10-14T09:37:26.061504Z",
     "start_time": "2024-10-14T09:37:25.761738Z"
    }
   },
   "source": [
    "df_new_best.toPandas().to_csv(\n",
    "    '1.csv',\n",
    "    index=False,\n",
    "    encoding='utf-8',\n",
    ")\n",
    "\n",
    "df_final = spark.read.csv('1.csv', header=True, inferSchema=True)\n"
   ],
   "outputs": [],
   "execution_count": 30
  },
  {
   "cell_type": "markdown",
   "id": "vocal-shooting",
   "metadata": {},
   "source": [
    "print df_final"
   ]
  },
  {
   "cell_type": "code",
   "id": "expired-viewer",
   "metadata": {
    "ExecuteTime": {
     "end_time": "2024-10-14T09:39:27.369179Z",
     "start_time": "2024-10-14T09:39:27.269860Z"
    }
   },
   "source": "df_final.show()",
   "outputs": [
    {
     "name": "stdout",
     "output_type": "stream",
     "text": [
      "+---+----------------+--------------+------------------+\n",
      "|_c0|experience_level|biggest_salary|employee_residence|\n",
      "+---+----------------+--------------+------------------+\n",
      "| 37|            NULL|        250000|                US|\n",
      "|252|            NULL|        600000|                US|\n",
      "| 33|          middle|        450000|                US|\n",
      "| 63|          senior|        412000|                US|\n",
      "+---+----------------+--------------+------------------+\n",
      "\n"
     ]
    }
   ],
   "execution_count": 35
  },
  {
   "cell_type": "markdown",
   "id": "nutritional-progress",
   "metadata": {},
   "source": [
    "filter df_final to delete experience_level where it Null, then join this table by biggest_salary(salary_in_usd) and employee_residence with entire df"
   ]
  },
  {
   "cell_type": "code",
   "id": "small-polymer",
   "metadata": {
    "ExecuteTime": {
     "end_time": "2024-10-14T09:42:59.462169Z",
     "start_time": "2024-10-14T09:42:59.438392Z"
    }
   },
   "source": [
    "df_final = df_final.dropna()\n",
    "df_final = df_final.alias('df_f').join(\n",
    "    df.alias('df'),\n",
    "    (df.salary_in_usd == df_final.biggest_salary) &\n",
    "    (df.employee_residence == df_final.employee_residence),\n",
    "    how='inner'\n",
    ")"
   ],
   "outputs": [],
   "execution_count": 40
  },
  {
   "cell_type": "markdown",
   "id": "variable-twins",
   "metadata": {},
   "source": [
    "print df_final"
   ]
  },
  {
   "cell_type": "code",
   "id": "generic-block",
   "metadata": {
    "ExecuteTime": {
     "end_time": "2024-10-14T09:43:02.430028Z",
     "start_time": "2024-10-14T09:43:02.159380Z"
    }
   },
   "source": "df_final.show()",
   "outputs": [
    {
     "name": "stdout",
     "output_type": "stream",
     "text": [
      "+---+----------------+--------------+------------------+---+---------+----------------+---------------+--------------------+------+---------------+-------------+------------------+------------+----------------+------------+\n",
      "|_c0|experience_level|biggest_salary|employee_residence|_c0|work_year|experience_level|employment_type|           job_title|salary|salary_currency|salary_in_usd|employee_residence|remote_ratio|company_location|company_size|\n",
      "+---+----------------+--------------+------------------+---+---------+----------------+---------------+--------------------+------+---------------+-------------+------------------+------------+----------------+------------+\n",
      "| 33|          middle|        450000|                US| 33|     2020|              MI|             FT|  Research Scientist|450000|            USD|       450000|                US|           0|              US|           M|\n",
      "| 63|          senior|        412000|                US| 63|     2020|              SE|             FT|      Data Scientist|412000|            USD|       412000|                US|         100|              US|           L|\n",
      "| 33|          middle|        450000|                US| 97|     2021|              MI|             FT|Financial Data An...|450000|            USD|       450000|                US|         100|              US|           L|\n",
      "+---+----------------+--------------+------------------+---+---------+----------------+---------------+--------------------+------+---------------+-------------+------------------+------------+----------------+------------+\n",
      "\n"
     ]
    }
   ],
   "execution_count": 41
  },
  {
   "cell_type": "markdown",
   "id": "variable-moore",
   "metadata": {},
   "source": [
    "last task is to save in variable and then print this variable of the biggest salary_in_usd from df_final"
   ]
  },
  {
   "cell_type": "code",
   "id": "individual-institution",
   "metadata": {
    "ExecuteTime": {
     "end_time": "2024-10-14T09:51:20.940307Z",
     "start_time": "2024-10-14T09:51:20.747360Z"
    }
   },
   "source": [
    "biggest_salary_in_usd = df_final.agg(max('salary_in_usd').alias('biggest_salary')).collect()[0]['biggest_salary']\n",
    "biggest_salary_in_usd"
   ],
   "outputs": [
    {
     "data": {
      "text/plain": [
       "450000"
      ]
     },
     "execution_count": 53,
     "metadata": {},
     "output_type": "execute_result"
    }
   ],
   "execution_count": 53
  },
  {
   "cell_type": "markdown",
   "id": "stopped-procedure",
   "metadata": {},
   "source": [
    "It is the end of PySpark basics. In other lessons you will learn optimizations technics and how to make distributed system"
   ]
  }
 ],
 "metadata": {
  "kernelspec": {
   "display_name": "Python 3",
   "language": "python",
   "name": "python3"
  },
  "language_info": {
   "codemirror_mode": {
    "name": "ipython",
    "version": 3
   },
   "file_extension": ".py",
   "mimetype": "text/x-python",
   "name": "python",
   "nbconvert_exporter": "python",
   "pygments_lexer": "ipython3",
   "version": "3.9.2"
  }
 },
 "nbformat": 4,
 "nbformat_minor": 5
}
