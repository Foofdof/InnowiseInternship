{
 "cells": [
  {
   "cell_type": "markdown",
   "id": "d3df79dd",
   "metadata": {},
   "source": [
    "## Упражнения по библиотеке Numpy"
   ]
  },
  {
   "cell_type": "code",
   "id": "76b9c43b",
   "metadata": {
    "ExecuteTime": {
     "end_time": "2024-10-07T10:24:49.346816Z",
     "start_time": "2024-10-07T10:24:48.141482Z"
    }
   },
   "source": "import numpy as np",
   "outputs": [],
   "execution_count": 2
  },
  {
   "cell_type": "markdown",
   "id": "03727b7c",
   "metadata": {},
   "source": [
    "**1.** Дан случайный массив, поменять знак у элементов, значения которых между 3 и 8"
   ]
  },
  {
   "cell_type": "code",
   "id": "b89a7523",
   "metadata": {
    "ExecuteTime": {
     "end_time": "2024-10-04T06:18:04.177446Z",
     "start_time": "2024-10-04T06:18:04.171497Z"
    }
   },
   "source": [
    "arr = np.random.randint(1, 10, 10, dtype=np.int64)\n",
    "print(arr)\n",
    "arr[(arr >= 3) & (arr <= 8)] *= -1\n",
    "print(arr)"
   ],
   "outputs": [
    {
     "name": "stdout",
     "output_type": "stream",
     "text": [
      "[1 1 3 9 9 1 2 2 7 9]\n",
      "[ 1  1 -3  9  9  1  2  2 -7  9]\n"
     ]
    }
   ],
   "execution_count": 9
  },
  {
   "cell_type": "markdown",
   "id": "5fa4abda",
   "metadata": {},
   "source": [
    "**2.** Заменить максимальный элемент случайного массива на 0"
   ]
  },
  {
   "metadata": {},
   "cell_type": "markdown",
   "source": "**In case of one occurrence**",
   "id": "a373bac15ea19268"
  },
  {
   "cell_type": "code",
   "id": "f2788a6e",
   "metadata": {
    "ExecuteTime": {
     "end_time": "2024-10-04T06:22:41.390083Z",
     "start_time": "2024-10-04T06:22:41.383114Z"
    }
   },
   "source": [
    "arr = np.random.randint(1, 10, 10, dtype=np.int64)\n",
    "print(arr)\n",
    "ind_max = np.argmax(arr)\n",
    "print(ind_max)\n",
    "arr[ind_max] = 0\n",
    "print(arr)"
   ],
   "outputs": [
    {
     "name": "stdout",
     "output_type": "stream",
     "text": [
      "[1 3 8 1 1 4 7 3 3 3]\n",
      "2\n",
      "[1 3 0 1 1 4 7 3 3 3]\n"
     ]
    }
   ],
   "execution_count": 14
  },
  {
   "metadata": {},
   "cell_type": "markdown",
   "source": "**In case of multiple occurrence**",
   "id": "672e5c54241bcc4e"
  },
  {
   "metadata": {
    "ExecuteTime": {
     "end_time": "2024-10-04T06:26:22.467200Z",
     "start_time": "2024-10-04T06:26:22.454871Z"
    }
   },
   "cell_type": "code",
   "source": [
    "arr = np.random.randint(1, 10, 10, dtype=np.int64)\n",
    "print(arr)\n",
    "max_el = np.max(arr)\n",
    "indices = np.argwhere(arr == max_el).flatten().tolist()\n",
    "arr[indices] = 0\n",
    "print(arr)\n"
   ],
   "id": "856140680d6c7d0f",
   "outputs": [
    {
     "name": "stdout",
     "output_type": "stream",
     "text": [
      "[3 2 4 5 9 1 8 5 9 7]\n",
      "[3 2 4 5 0 1 8 5 0 7]\n"
     ]
    }
   ],
   "execution_count": 16
  },
  {
   "cell_type": "markdown",
   "id": "3cac656b",
   "metadata": {},
   "source": [
    "**3.** Построить прямое произведение массивов (все комбинации с каждым элементом). На вход подается двумерный массив"
   ]
  },
  {
   "cell_type": "code",
   "id": "3396b764",
   "metadata": {
    "ExecuteTime": {
     "end_time": "2024-10-04T07:29:12.007746Z",
     "start_time": "2024-10-04T07:29:11.999199Z"
    }
   },
   "source": [
    "arrays = np.random.randint(1, 10, size=(2, 2))\n",
    "print(arrays)\n",
    "\n",
    "def cartesian_product(arrays: np.ndarray) -> np.ndarray:\n",
    "    result = arrays[0].reshape(-1, 1)\n",
    "\n",
    "    for array in arrays[1:]:\n",
    "        result = np.hstack([\n",
    "            np.repeat(result, array.size, axis=0), \n",
    "            np.tile(array, result.size).reshape(-1, 1)\n",
    "        ])\n",
    "    \n",
    "    return result\n",
    "\n",
    "print(cartesian_product(arrays))\n",
    "\n",
    "        "
   ],
   "outputs": [
    {
     "name": "stdout",
     "output_type": "stream",
     "text": [
      "[[6 8]\n",
      " [9 6]]\n",
      "[[6 9]\n",
      " [6 6]\n",
      " [8 9]\n",
      " [8 6]]\n"
     ]
    }
   ],
   "execution_count": 43
  },
  {
   "cell_type": "markdown",
   "id": "674c9354",
   "metadata": {},
   "source": [
    "**4.** Даны 2 массива A (8x3) и B (2x2). Найти строки в A, которые содержат элементы из каждой строки в B, независимо от порядка элементов в B"
   ]
  },
  {
   "cell_type": "code",
   "id": "cb664782",
   "metadata": {
    "ExecuteTime": {
     "end_time": "2024-10-07T08:43:35.990701Z",
     "start_time": "2024-10-07T08:43:35.983307Z"
    }
   },
   "source": [
    "from collections import defaultdict\n",
    "\n",
    "a = np.random.randint(1,5,size=(8,3))\n",
    "b = np.random.randint(1,5,size=(2,2))\n",
    "\n",
    "print(a,b,sep='\\n')\n",
    "\n",
    "indices = (a[..., np.newaxis, np.newaxis] == a)\n",
    "\n",
    "rows = (indices.sum(axis=(1,2,3)) >= b.shape[1]).nonzero()[0]\n",
    "\n",
    "print(rows)"
   ],
   "outputs": [
    {
     "name": "stdout",
     "output_type": "stream",
     "text": [
      "[[1 1 4]\n",
      " [4 2 4]\n",
      " [3 2 3]\n",
      " [3 2 1]\n",
      " [2 4 3]\n",
      " [1 4 4]\n",
      " [3 1 4]\n",
      " [3 3 3]]\n",
      "[[2 2]\n",
      " [4 3]]\n",
      "[0 1 2 3 4 5 6 7]\n"
     ]
    }
   ],
   "execution_count": 103
  },
  {
   "cell_type": "markdown",
   "id": "fa46533b",
   "metadata": {},
   "source": [
    "**5.** Дана 10x3 матрица, найти строки из неравных значений (например строка [2,2,3] остается, строка [3,3,3] удаляется)"
   ]
  },
  {
   "cell_type": "code",
   "id": "fa545b23",
   "metadata": {
    "ExecuteTime": {
     "end_time": "2024-10-04T20:18:35.160466Z",
     "start_time": "2024-10-04T20:18:35.154403Z"
    }
   },
   "source": [
    "a = np.random.randint(1,5,size=(10, 3))\n",
    "print(a)\n",
    "mask = (a[:, 0] != a[:, 1]) | (a[:, 0] != a[:, 2])\n",
    "print(a[mask])"
   ],
   "outputs": [
    {
     "name": "stdout",
     "output_type": "stream",
     "text": [
      "[[1 4 3]\n",
      " [1 2 1]\n",
      " [1 2 4]\n",
      " [4 4 3]\n",
      " [4 4 1]\n",
      " [1 1 3]\n",
      " [1 1 1]\n",
      " [2 4 1]\n",
      " [4 4 4]\n",
      " [4 1 2]]\n",
      "[[1 4 3]\n",
      " [1 2 1]\n",
      " [1 2 4]\n",
      " [4 4 3]\n",
      " [4 4 1]\n",
      " [1 1 3]\n",
      " [2 4 1]\n",
      " [4 1 2]]\n"
     ]
    }
   ],
   "execution_count": 19
  },
  {
   "cell_type": "markdown",
   "id": "28f0d116",
   "metadata": {},
   "source": [
    "**6.** Дан двумерный массив. Удалить те строки, которые повторяются"
   ]
  },
  {
   "cell_type": "code",
   "id": "83d2c0b7",
   "metadata": {
    "ExecuteTime": {
     "end_time": "2024-10-04T20:46:09.005576Z",
     "start_time": "2024-10-04T20:46:08.999703Z"
    }
   },
   "source": [
    "a = np.random.randint(1, 3,size=(10, 3))\n",
    "print(a)\n",
    "\n",
    "a_unique = np.unique(a, axis=0)\n",
    "    \n",
    "print(a_unique)"
   ],
   "outputs": [
    {
     "name": "stdout",
     "output_type": "stream",
     "text": [
      "[[1 1 1]\n",
      " [1 2 2]\n",
      " [1 1 2]\n",
      " [2 2 2]\n",
      " [2 1 2]\n",
      " [2 1 2]\n",
      " [2 1 2]\n",
      " [1 2 1]\n",
      " [1 2 2]\n",
      " [2 1 1]]\n",
      "[[1 1 1]\n",
      " [1 1 2]\n",
      " [1 2 1]\n",
      " [1 2 2]\n",
      " [2 1 1]\n",
      " [2 1 2]\n",
      " [2 2 2]]\n"
     ]
    }
   ],
   "execution_count": 46
  },
  {
   "cell_type": "markdown",
   "id": "6daa9e37",
   "metadata": {},
   "source": [
    "______\n",
    "______"
   ]
  },
  {
   "cell_type": "markdown",
   "id": "cfbfcaff",
   "metadata": {},
   "source": [
    "Для каждой из следующих задач (1-5) нужно привести 2 реализации – одна без использования numpy (cчитайте, что там, где на входе или выходе должны быть numpy array, будут просто списки), а вторая полностью векторизованная с использованием numpy (без использования питоновских циклов/map/list comprehension).\n",
    "\n",
    "\n",
    "__Замечание 1.__ Можно считать, что все указанные объекты непустые (к примеру, в __задаче 1__ на диагонали матрицы есть ненулевые элементы).\n",
    "\n",
    "__Замечание 2.__ Для большинства задач решение занимает не больше 1-2 строк."
   ]
  },
  {
   "cell_type": "markdown",
   "id": "673cac7f",
   "metadata": {},
   "source": [
    "___"
   ]
  },
  {
   "cell_type": "markdown",
   "id": "ca6f585e",
   "metadata": {},
   "source": [
    "* __Задача 1__: Подсчитать произведение ненулевых элементов на диагонали прямоугольной матрицы.  \n",
    " Например, для X = np.array([[1, 0, 1], [2, 0, 2], [3, 0, 3], [4, 4, 4]]) ответ 3."
   ]
  },
  {
   "cell_type": "code",
   "id": "065862fc",
   "metadata": {
    "ExecuteTime": {
     "end_time": "2024-10-07T06:36:06.396010Z",
     "start_time": "2024-10-07T06:36:06.388178Z"
    }
   },
   "source": [
    "a = np.random.randint(-3, 3, size=(4, 3))\n",
    "print(a)\n",
    "diag_el = a.diagonal()\n",
    "diag_el = diag_el[diag_el != 0]\n",
    "print(np.prod(diag_el))\n",
    "\n",
    "import random\n",
    "a = [[random.randint(-3, 3) for __ in range(3)] for _ in range(4)]\n",
    "dim = min(len(a), len(a[0]))\n",
    "res = 1\n",
    "for i in range(dim):\n",
    "   res *= a[i][i] if a[i][i] != 0 else 1\n",
    "        \n",
    "print(a)\n",
    "print(res)"
   ],
   "outputs": [
    {
     "name": "stdout",
     "output_type": "stream",
     "text": [
      "[[-2  1 -1]\n",
      " [ 0  2 -1]\n",
      " [ 2 -3 -2]\n",
      " [-2 -3 -3]]\n",
      "8\n",
      "[[3, 2, -2], [-2, -2, 3], [1, 3, 0], [3, 1, -1]]\n",
      "-6\n"
     ]
    }
   ],
   "execution_count": 6
  },
  {
   "cell_type": "markdown",
   "id": "9fc51d41",
   "metadata": {},
   "source": [
    "* __Задача 2__: Даны два вектора x и y. Проверить, задают ли они одно и то же мультимножество.  \n",
    "  Например, для x = np.array([1, 2, 2, 4]), y = np.array([4, 2, 1, 2]) ответ True."
   ]
  },
  {
   "cell_type": "code",
   "id": "a809e02f",
   "metadata": {
    "ExecuteTime": {
     "end_time": "2024-10-07T06:45:10.804757Z",
     "start_time": "2024-10-07T06:45:10.790442Z"
    }
   },
   "source": [
    "from collections import defaultdict\n",
    "\n",
    "x = np.random.randint(0, 3, size=(5,))\n",
    "y = np.random.randint(0, 3, size=(5,))\n",
    "\n",
    "print(x)\n",
    "print(y)\n",
    "\n",
    "ans = np.array_equal(np.sort(x), np.sort(y))\n",
    "print(ans)\n",
    "\n",
    "x = [random.randint(0, 1) for _ in range(3)] \n",
    "y = [random.randint(0, 1) for _ in range(3)]\n",
    "print(x)\n",
    "print(y)\n",
    "\n",
    "d = defaultdict(int)\n",
    "for _ in x:\n",
    "    d[_] += 1 \n",
    "    \n",
    "for _ in y:\n",
    "    d[_] -= 1\n",
    "\n",
    "print(d)\n",
    "ans = sum(map(abs, d.values()))\n",
    "print(True if ans == 0 else False)"
   ],
   "outputs": [
    {
     "name": "stdout",
     "output_type": "stream",
     "text": [
      "[0 2 1 2 2]\n",
      "[1 0 1 2 1]\n",
      "False\n",
      "[1, 0, 0]\n",
      "[1, 0, 0]\n",
      "defaultdict(<class 'int'>, {1: 0, 0: 0})\n",
      "True\n"
     ]
    }
   ],
   "execution_count": 20
  },
  {
   "cell_type": "markdown",
   "id": "b9c185c7",
   "metadata": {},
   "source": [
    "* __Задача 3__: Найти максимальный элемент в векторе x среди элементов, перед которыми стоит ноль. \n",
    " Например, для x = np.array([6, 2, 0, 3, 0, 0, 5, 7, 0]) ответ 5."
   ]
  },
  {
   "cell_type": "code",
   "id": "b57df008",
   "metadata": {
    "ExecuteTime": {
     "end_time": "2024-10-07T06:51:08.806531Z",
     "start_time": "2024-10-07T06:51:08.797827Z"
    }
   },
   "source": [
    "x = np.random.randint(0, 5, size=(10,))\n",
    "print(x)\n",
    "\n",
    "mask = x[:-1] == 0\n",
    "raw = x[1:][mask]\n",
    "\n",
    "if raw.size > 0:\n",
    "    print(np.max(raw))\n",
    "    \n",
    "x = [random.randint(0, 5) for _ in range(10)]\n",
    "print(x)\n",
    "ans = x[0]\n",
    "for i in range(len(x) - 1):\n",
    "    el = x[i + 1]\n",
    "    if x[i] == 0 and el != 0:\n",
    "        ans = max(ans, el)\n",
    "\n",
    "print(ans)"
   ],
   "outputs": [
    {
     "name": "stdout",
     "output_type": "stream",
     "text": [
      "[4 4 1 4 4 4 2 3 0 4]\n",
      "4\n",
      "[3, 5, 1, 5, 4, 4, 5, 0, 0, 3]\n",
      "3\n"
     ]
    }
   ],
   "execution_count": 22
  },
  {
   "cell_type": "markdown",
   "id": "480be4ce",
   "metadata": {},
   "source": [
    "* __Задача 4__: Реализовать кодирование длин серий (Run-length encoding). Для некоторого вектора x необходимо вернуть кортеж из двух векторов одинаковой длины. Первый содержит числа, а второй - сколько раз их нужно повторить.  \n",
    " Например, для x = np.array([2, 2, 2, 3, 3, 3, 5]) ответ (np.array([2, 3, 5]), np.array([3, 3, 1]))."
   ]
  },
  {
   "cell_type": "code",
   "id": "3c592124",
   "metadata": {
    "ExecuteTime": {
     "end_time": "2024-10-07T07:29:57.288789Z",
     "start_time": "2024-10-07T07:29:57.280626Z"
    }
   },
   "source": [
    "x = np.random.randint(0, 5, size=(5,), dtype=np.int64)\n",
    "x = np.sort(x)\n",
    "print(x)\n",
    "ind = np.where(np.diff(x) != 0)[0]+1\n",
    "ind = np.r_[0, ind, len(x)]\n",
    "print(x[ind[:-1]], np.diff(ind))\n",
    "\n",
    "from collections import defaultdict\n",
    "x = [random.randint(0, 5) for _ in range(5)]\n",
    "print(x)\n",
    "\n",
    "d = defaultdict(int)\n",
    "for el in x:\n",
    "    d[el] += 1\n",
    "print(tuple(d.keys()), tuple(d.values()))\n"
   ],
   "outputs": [
    {
     "name": "stdout",
     "output_type": "stream",
     "text": [
      "[0 1 1 2 4]\n",
      "[0 1 2 4] [1 2 1 1]\n",
      "[3, 4, 0, 0, 5]\n",
      "(3, 4, 0, 5) (1, 1, 2, 1)\n"
     ]
    }
   ],
   "execution_count": 56
  },
  {
   "cell_type": "markdown",
   "id": "077532ec",
   "metadata": {},
   "source": "* __Задача 5__: Даны две выборки объектов - X и Y. Вычислить матрицу евклидовых расстояний между объектами. Сравните с функцией scipy.spatial.distance.cdist по скорости работы."
  },
  {
   "metadata": {
    "ExecuteTime": {
     "end_time": "2024-10-07T08:06:03.454116Z",
     "start_time": "2024-10-07T08:06:03.448329Z"
    }
   },
   "cell_type": "code",
   "source": [
    "import math\n",
    "\n",
    "\n",
    "def own_cdist(x, y):\n",
    "    return np.sqrt(np.sum((x[:, np.newaxis] - y)**2, axis=-1))\n",
    "\n",
    "def pair_wise_cdist(x, y):\n",
    "    result = list()\n",
    "    \n",
    "    for i in range(len(x)):\n",
    "        row = list()\n",
    "        for j in range(len(y)):\n",
    "            summ = 0\n",
    "            for k in range(len(x[0])):\n",
    "                summ += (abs(x[i][k] - y[j][k]))**2\n",
    "            row.append(math.sqrt(summ))\n",
    "        result.append(row)\n",
    "    return result"
   ],
   "id": "32c5594d19689198",
   "outputs": [],
   "execution_count": 70
  },
  {
   "cell_type": "code",
   "id": "1e807797",
   "metadata": {
    "ExecuteTime": {
     "end_time": "2024-10-07T08:08:19.298012Z",
     "start_time": "2024-10-07T08:08:08.064502Z"
    }
   },
   "source": [
    "x = np.random.randint(0, 3, size=(3,3))\n",
    "y = np.random.randint(0, 3, size=(3,3))\n",
    "\n",
    "from scipy.spatial import distance\n",
    "\n",
    "print(x)\n",
    "print(y)\n",
    "\n",
    "%timeit own_cdist(x, y)\n",
    "%timeit distance.cdist(x, y, 'euclidean')\n",
    "own_cdist(x, y)\n",
    "print(pair_wise_cdist(x, y))\n",
    "print(distance.cdist(x, y, 'euclidean'))\n"
   ],
   "outputs": [
    {
     "name": "stdout",
     "output_type": "stream",
     "text": [
      "[[0 2 0]\n",
      " [2 1 2]\n",
      " [1 2 2]]\n",
      "[[2 2 1]\n",
      " [0 0 1]\n",
      " [2 1 1]]\n",
      "8.6 μs ± 568 ns per loop (mean ± std. dev. of 7 runs, 100,000 loops each)\n",
      "4.42 μs ± 67.4 ns per loop (mean ± std. dev. of 7 runs, 100,000 loops each)\n",
      "[[2.23606797749979, 2.23606797749979, 2.449489742783178], [1.4142135623730951, 2.449489742783178, 1.0], [1.4142135623730951, 2.449489742783178, 1.7320508075688772]]\n",
      "[[2.23606798 2.23606798 2.44948974]\n",
      " [1.41421356 2.44948974 1.        ]\n",
      " [1.41421356 2.44948974 1.73205081]]\n"
     ]
    }
   ],
   "execution_count": 72
  },
  {
   "cell_type": "markdown",
   "id": "973e8064",
   "metadata": {},
   "source": [
    "_______\n",
    "________"
   ]
  },
  {
   "cell_type": "markdown",
   "id": "1104acb7",
   "metadata": {},
   "source": [
    "* #### __Задача 6__: CrunchieMunchies __*__\n",
    "\n",
    "Вы работаете в отделе маркетинга пищевой компании MyCrunch, которая разрабатывает новый вид вкусных, полезных злаков под названием **CrunchieMunchies**.\n",
    "\n",
    "Вы хотите продемонстрировать потребителям, насколько полезны ваши хлопья по сравнению с другими ведущими брендами, поэтому вы собрали данные о питании нескольких разных конкурентов.\n",
    "\n",
    "Ваша задача - использовать вычисления Numpy для анализа этих данных и доказать, что ваши **СrunchieMunchies** - самый здоровый выбор для потребителей.\n"
   ]
  },
  {
   "cell_type": "code",
   "id": "10a77f8d",
   "metadata": {
    "ExecuteTime": {
     "end_time": "2024-10-07T08:10:59.340789Z",
     "start_time": "2024-10-07T08:10:59.336787Z"
    }
   },
   "source": [
    "import numpy as np"
   ],
   "outputs": [],
   "execution_count": 73
  },
  {
   "cell_type": "markdown",
   "id": "ab87cb03",
   "metadata": {},
   "source": [
    "1. Просмотрите файл cereal.csv. Этот файл содержит количества калорий для различных марок хлопьев. Загрузите данные из файла и сохраните их как calorie_stats."
   ]
  },
  {
   "cell_type": "code",
   "id": "9681ebf2",
   "metadata": {
    "ExecuteTime": {
     "end_time": "2024-10-07T10:24:54.528355Z",
     "start_time": "2024-10-07T10:24:54.520325Z"
    }
   },
   "source": [
    "calorie_stats = np.loadtxt(\"./data/cereal.csv\", delimiter=\",\")\n",
    "calorie_stats"
   ],
   "outputs": [
    {
     "data": {
      "text/plain": [
       "array([ 70., 120.,  70.,  50., 110., 110., 110., 130.,  90.,  90., 120.,\n",
       "       110., 120., 110., 110., 110., 100., 110., 110., 110., 100., 110.,\n",
       "       100., 100., 110., 110., 100., 120., 120., 110., 100., 110., 100.,\n",
       "       110., 120., 120., 110., 110., 110., 140., 110., 100., 110., 100.,\n",
       "       150., 150., 160., 100., 120., 140.,  90., 130., 120., 100.,  50.,\n",
       "        50., 100., 100., 120., 100.,  90., 110., 110.,  80.,  90.,  90.,\n",
       "       110., 110.,  90., 110., 140., 100., 110., 110., 100., 100., 110.])"
      ]
     },
     "execution_count": 3,
     "metadata": {},
     "output_type": "execute_result"
    }
   ],
   "execution_count": 3
  },
  {
   "cell_type": "markdown",
   "id": "139cfbd8",
   "metadata": {},
   "source": [
    "2. В одной порции CrunchieMunchies содержится 60 калорий. Насколько выше среднее количество калорий у ваших конкурентов?\n",
    "\n",
    "Сохраните ответ в переменной average_calories и распечатайте переменную в терминале"
   ]
  },
  {
   "cell_type": "code",
   "id": "7036d240",
   "metadata": {
    "ExecuteTime": {
     "end_time": "2024-10-07T08:15:11.162061Z",
     "start_time": "2024-10-07T08:15:11.156755Z"
    }
   },
   "source": [
    "average_calories = np.average(calorie_stats - 60, axis=0)\n",
    "print(average_calories)"
   ],
   "outputs": [
    {
     "name": "stdout",
     "output_type": "stream",
     "text": [
      "46.883116883116884\n"
     ]
    }
   ],
   "execution_count": 78
  },
  {
   "cell_type": "markdown",
   "id": "b2ddb4cd",
   "metadata": {},
   "source": [
    "3. Корректно ли среднее количество калорий отражает распределение набора данных? Давайте отсортируем данные и посмотрим.\n",
    "\n",
    "Отсортируйте данные и сохраните результат в переменной calorie_stats_sorted. Распечатайте отсортированную информацию"
   ]
  },
  {
   "cell_type": "code",
   "id": "46eeb4ed",
   "metadata": {
    "ExecuteTime": {
     "end_time": "2024-10-07T08:16:11.662043Z",
     "start_time": "2024-10-07T08:16:11.656527Z"
    }
   },
   "source": [
    "calorie_stats_sorted = np.sort(calorie_stats, axis=0)\n",
    "print(calorie_stats_sorted)"
   ],
   "outputs": [
    {
     "name": "stdout",
     "output_type": "stream",
     "text": [
      "[ 50.  50.  50.  70.  70.  80.  90.  90.  90.  90.  90.  90.  90. 100.\n",
      " 100. 100. 100. 100. 100. 100. 100. 100. 100. 100. 100. 100. 100. 100.\n",
      " 100. 100. 110. 110. 110. 110. 110. 110. 110. 110. 110. 110. 110. 110.\n",
      " 110. 110. 110. 110. 110. 110. 110. 110. 110. 110. 110. 110. 110. 110.\n",
      " 110. 110. 110. 120. 120. 120. 120. 120. 120. 120. 120. 120. 120. 130.\n",
      " 130. 140. 140. 140. 150. 150. 160.]\n"
     ]
    }
   ],
   "execution_count": 80
  },
  {
   "cell_type": "markdown",
   "id": "4dc74116",
   "metadata": {},
   "source": [
    "4. Похоже, что большинство значений выше среднего. Давайте посмотрим, является ли медиана наиболее корректным показателем набора данных.\n",
    "\n",
    "Вычислите медиану набора данных и сохраните свой ответ в median_calories. Выведите медиану, чтобы вы могли видеть, как она сравнивается со средним значением."
   ]
  },
  {
   "cell_type": "code",
   "id": "b56627c3",
   "metadata": {
    "ExecuteTime": {
     "end_time": "2024-10-07T08:16:34.510228Z",
     "start_time": "2024-10-07T08:16:34.505274Z"
    }
   },
   "source": [
    "median_calories = np.median(calorie_stats, axis=0)\n",
    "print(median_calories)"
   ],
   "outputs": [
    {
     "name": "stdout",
     "output_type": "stream",
     "text": [
      "110.0\n"
     ]
    }
   ],
   "execution_count": 81
  },
  {
   "cell_type": "markdown",
   "id": "a63ab72f",
   "metadata": {},
   "source": [
    "5. В то время как медиана показывает, что по крайней мере половина наших значений составляет более 100 калорий, было бы более впечатляюще показать, что значительная часть конкурентов имеет более высокое количество калорий, чем CrunchieMunchies.\n",
    "\n",
    "Рассчитайте различные процентили и распечатайте их, пока не найдете наименьший процентиль, превышающий 60 калорий. Сохраните это значение в переменной nth_percentile."
   ]
  },
  {
   "cell_type": "code",
   "id": "fe80ce03",
   "metadata": {
    "ExecuteTime": {
     "end_time": "2024-10-07T08:25:21.933482Z",
     "start_time": "2024-10-07T08:25:21.927008Z"
    }
   },
   "source": [
    "nth_percentile = 0\n",
    "for per in range(0, 10, 1):\n",
    "    nth_percentile = np.percentile(calorie_stats, per, axis=0)\n",
    "    print(\"Percent: \", per, \"Percentile: \", nth_percentile)\n",
    "    if nth_percentile > 60:\n",
    "        break"
   ],
   "outputs": [
    {
     "name": "stdout",
     "output_type": "stream",
     "text": [
      "Percent:  0 Percentile:  50.0\n",
      "Percent:  1 Percentile:  50.0\n",
      "Percent:  2 Percentile:  50.0\n",
      "Percent:  3 Percentile:  55.599999999999994\n",
      "Percent:  4 Percentile:  70.0\n"
     ]
    }
   ],
   "execution_count": 91
  },
  {
   "cell_type": "markdown",
   "id": "a2a3c5aa",
   "metadata": {},
   "source": [
    "6. Хотя процентиль показывает нам, что у большинства конкурентов количество калорий намного выше, это неудобная концепция для использования в маркетинговых материалах.\n",
    "\n",
    "Вместо этого давайте подсчитаем процент хлопьев, в которых содержится более 60 калорий на порцию. Сохраните свой ответ в переменной more_calories и распечатайте его"
   ]
  },
  {
   "cell_type": "code",
   "id": "ade0f6ea",
   "metadata": {
    "ExecuteTime": {
     "end_time": "2024-10-07T08:28:44.184709Z",
     "start_time": "2024-10-07T08:28:44.180303Z"
    }
   },
   "source": [
    "more_calories = calorie_stats_sorted[calorie_stats_sorted > 60].size/calorie_stats_sorted.size\n",
    "print(more_calories*100)"
   ],
   "outputs": [
    {
     "name": "stdout",
     "output_type": "stream",
     "text": [
      "96.1038961038961\n"
     ]
    }
   ],
   "execution_count": 94
  },
  {
   "cell_type": "markdown",
   "id": "1735d65b",
   "metadata": {},
   "source": [
    "7. Это действительно высокий процент. Это будет очень полезно, когда мы будем продвигать CrunchieMunchies. Но один вопрос заключается в том, насколько велики различия в наборе данных? Можем ли мы сделать обобщение, что в большинстве злаков содержится около 100 калорий или разброс еще больше?\n",
    "\n",
    "Рассчитайте величину отклонения, найдя стандартное отклонение, Сохраните свой ответ в calorie_std и распечатайте на терминале. Как мы можем включить эту ценность в наш анализ?"
   ]
  },
  {
   "cell_type": "code",
   "id": "85c8df1f",
   "metadata": {
    "ExecuteTime": {
     "end_time": "2024-10-07T08:34:49.155072Z",
     "start_time": "2024-10-07T08:34:49.150025Z"
    }
   },
   "source": [
    "calorie_std = np.std(calorie_stats-100, axis=0)\n",
    "print(calorie_std)"
   ],
   "outputs": [
    {
     "name": "stdout",
     "output_type": "stream",
     "text": [
      "19.35718533390827\n"
     ]
    }
   ],
   "execution_count": 99
  },
  {
   "cell_type": "markdown",
   "id": "037455c5",
   "metadata": {},
   "source": [
    "8. Напишите короткий абзац, в котором кратко изложите свои выводы и то, как, по вашему мнению, эти данные могут быть использованы в интересах Mycrunch при маркетинге CrunchieMunchies."
   ]
  },
  {
   "cell_type": "code",
   "execution_count": 167,
   "id": "c260fee9",
   "metadata": {},
   "outputs": [],
   "source": [
    "Во-первых можно говорить, что больше 96% конкруентов проигрывают по кол-ву калорий. \n",
    "Во-вторых в среднем у конкруентов 100 +- 20 калорий"
   ]
  },
  {
   "metadata": {
    "ExecuteTime": {
     "end_time": "2024-10-07T08:42:13.404476Z",
     "start_time": "2024-10-07T08:42:13.115865Z"
    }
   },
   "cell_type": "code",
   "source": [
    "import matplotlib.pyplot as plt\n",
    "\n",
    "plt.hist(calorie_stats, bins=np.unique(calorie_stats).size)\n",
    "\n",
    "plt.title('Frequency of Calorie Counts')\n",
    "plt.xlabel('Calories')\n",
    "plt.ylabel('Frequency')\n",
    "\n",
    "plt.show()"
   ],
   "id": "bc492e4bd2d1af77",
   "outputs": [
    {
     "data": {
      "text/plain": [
       "<Figure size 640x480 with 1 Axes>"
      ],
      "image/png": "[encoded data removed]"
     },
     "metadata": {},
     "output_type": "display_data"
    }
   ],
   "execution_count": 101
  },
  {
   "metadata": {},
   "cell_type": "code",
   "outputs": [],
   "execution_count": null,
   "source": "",
   "id": "6fc5d3aa878acd63"
  }
 ],
 "metadata": {
  "kernelspec": {
   "display_name": "Python 3 (ipykernel)",
   "language": "python",
   "name": "python3"
  },
  "language_info": {
   "codemirror_mode": {
    "name": "ipython",
    "version": 3
   },
   "file_extension": ".py",
   "mimetype": "text/x-python",
   "name": "python",
   "nbconvert_exporter": "python",
   "pygments_lexer": "ipython3",
   "version": "3.8.10"
  }
 },
 "nbformat": 4,
 "nbformat_minor": 5
}
